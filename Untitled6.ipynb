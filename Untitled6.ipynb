{
 "cells": [
  {
   "cell_type": "code",
   "execution_count": null,
   "id": "fe73d11e",
   "metadata": {},
   "outputs": [],
   "source": [
    "#my name is nanu i have very stress, i survive from various difficulties "
   ]
  },
  {
   "cell_type": "code",
   "execution_count": null,
   "id": "74aeed97",
   "metadata": {},
   "outputs": [],
   "source": [
    "trisha"
   ]
  },
  {
   "cell_type": "code",
   "execution_count": null,
   "id": "7ee0836b",
   "metadata": {},
   "outputs": [],
   "source": [
    "nanu"
   ]
  },
  {
   "cell_type": "code",
   "execution_count": null,
   "id": "ecf369ea",
   "metadata": {},
   "outputs": [],
   "source": [
    "kalu"
   ]
  }
 ],
 "metadata": {
  "kernelspec": {
   "display_name": "Python 3 (ipykernel)",
   "language": "python",
   "name": "python3"
  },
  "language_info": {
   "codemirror_mode": {
    "name": "ipython",
    "version": 3
   },
   "file_extension": ".py",
   "mimetype": "text/x-python",
   "name": "python",
   "nbconvert_exporter": "python",
   "pygments_lexer": "ipython3",
   "version": "3.9.7"
  }
 },
 "nbformat": 4,
 "nbformat_minor": 5
}
